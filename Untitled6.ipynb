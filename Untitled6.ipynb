{
  "nbformat": 4,
  "nbformat_minor": 0,
  "metadata": {
    "colab": {
      "provenance": []
    },
    "kernelspec": {
      "name": "python3",
      "display_name": "Python 3"
    },
    "language_info": {
      "name": "python"
    }
  },
  "cells": [
    {
      "cell_type": "code",
      "execution_count": null,
      "metadata": {
        "id": "TUW8Jg6xwB0b"
      },
      "outputs": [],
      "source": [
        "import numpy\n",
        "\n",
        "#ask user to enter an integer number between 5 and 15\n",
        "n = int(input(\"Enter an integer number between 5 and 15: \"))\n",
        "#check if the number is between 5 and 15\n",
        "while n < 5 or n > 15:\n",
        "    print(\"The number is not between 5 and 15\")\n",
        "    n = int(input(\"Enter an integer number between 5 and 15: \"))\n",
        "\n",
        "#n is the length of array\n",
        "#method 1\n",
        "random_array = numpy.random.randint(10, 50, n)\n",
        "#display the elements of array only without the brackets\n",
        "print(\"The elements of array are: \", end = \"\")\n",
        "for i in range(len(random_array)):\n",
        "    print(random_array[i], end = \" \")\n",
        "print()\n",
        "\n",
        "#method 2\n",
        "#Return the summation of all the elements in the array(the array is the parameter for this method)\n",
        "\n",
        "def sum_array(array):\n",
        "    sum = 0\n",
        "    for i in range(len(array)):\n",
        "        sum += array[i]\n",
        "    return sum\n",
        "\n",
        "print(\"The sum is: \", sum_array(random_array))\n"
      ]
    }
  ]
}